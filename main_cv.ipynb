{
 "cells": [
  {
   "cell_type": "code",
   "execution_count": 1,
   "metadata": {},
   "outputs": [],
   "source": [
    "import os, sys"
   ]
  },
  {
   "cell_type": "code",
   "execution_count": 2,
   "metadata": {},
   "outputs": [
    {
     "name": "stderr",
     "output_type": "stream",
     "text": [
      "/usr/local/lib/python2.7/dist-packages/h5py/__init__.py:36: FutureWarning: Conversion of the second argument of issubdtype from `float` to `np.floating` is deprecated. In future, it will be treated as `np.float64 == np.dtype(float).type`.\n",
      "  from ._conv import register_converters as _register_converters\n"
     ]
    }
   ],
   "source": [
    "from model import *\n",
    "from load_data import *"
   ]
  },
  {
   "cell_type": "code",
   "execution_count": 3,
   "metadata": {},
   "outputs": [],
   "source": [
    "config = {'batch_size':8, 'learning_rate':0.01, 'momentum':0.5, 'reg_W':0.0001, 'patience':30, 'num_epochs':100, 'NUM_LABELS':8, 'use_conv':True}"
   ]
  },
  {
   "cell_type": "code",
   "execution_count": 4,
   "metadata": {},
   "outputs": [],
   "source": [
    "#load data\n",
    "#config['data'] = load_data()\n",
    "config['cv_ratio'] = [9,1]"
   ]
  },
  {
   "cell_type": "code",
   "execution_count": 5,
   "metadata": {},
   "outputs": [],
   "source": [
    "config['conv_dict'] =   {'static':True, 'MP':True,'BN':True,'SM':True, 'filter_size':50, 'stride':1, 'pool_size':1}"
   ]
  },
  {
   "cell_type": "markdown",
   "metadata": {},
   "source": [
    "### SLAC model"
   ]
  },
  {
   "cell_type": "code",
   "execution_count": 6,
   "metadata": {},
   "outputs": [
    {
     "name": "stdout",
     "output_type": "stream",
     "text": [
      "Using conv to detect peaks\n",
      "defining conv filters for preprocessing\n",
      "(8, 2048, 2048, 1)\n",
      "(8, 2048, 2048, 4)\n",
      "(8, 2048, 2048, 4)\n",
      "defining conv filters for preprocessing\n",
      "(8, 2048, 2048, 1)\n",
      "(8, 2048, 2048, 4)\n",
      "(8, 2048, 2048, 4)\n",
      "Building conv graph for slac image\n",
      "(8, 2048, 2048, 4)\n",
      "('adding cnn layer..', 1)\n",
      "WARNING:tensorflow:From /usr/local/lib/python2.7/dist-packages/tensorflow/contrib/learn/python/learn/datasets/base.py:198: retry (from tensorflow.contrib.learn.python.learn.datasets.base) is deprecated and will be removed in a future version.\n",
      "Instructions for updating:\n",
      "Use the retry module or similar alternatives.\n",
      "(8, 512, 512, 64)\n",
      "('adding max pooling...', 2, ' with ', 2)\n",
      "(8, 256, 256, 64)\n",
      "('adding cnn layer..', 3)\n",
      "(8, 64, 64, 32)\n",
      "('adding max pooling...', 4, ' with ', 2)\n",
      "(8, 32, 32, 32)\n",
      "('adding cnn layer..', 5)\n",
      "(8, 16, 16, 32)\n",
      "('adding max pooling...', 6, ' with ', 2)\n",
      "(8, 8, 8, 32)\n",
      "('adding flattening...', 7)\n",
      "(8, 2048)\n",
      "('adding fully connected layer...', 8, ' with ', 1024)\n",
      "('final shape:', TensorShape([Dimension(8), Dimension(1024)]))\n",
      "(8, 2048, 2048, 4)\n",
      "('adding cnn layer..', 1)\n",
      "(8, 512, 512, 64)\n",
      "('adding max pooling...', 2, ' with ', 2)\n",
      "(8, 256, 256, 64)\n",
      "('adding cnn layer..', 3)\n",
      "(8, 64, 64, 32)\n",
      "('adding max pooling...', 4, ' with ', 2)\n",
      "(8, 32, 32, 32)\n",
      "('adding cnn layer..', 5)\n",
      "(8, 16, 16, 32)\n",
      "('adding max pooling...', 6, ' with ', 2)\n",
      "(8, 8, 8, 32)\n",
      "('adding flattening...', 7)\n",
      "(8, 2048)\n",
      "('adding fully connected layer...', 8, ' with ', 1024)\n",
      "('final shape:', TensorShape([Dimension(8), Dimension(1024)]))\n",
      "Building composition graph\n",
      "(8, 3)\n",
      "('adding fully connected layer...', 1, ' with ', 256)\n",
      "(8, 256)\n",
      "('adding fully connected layer...', 2, ' with ', 256)\n",
      "('final shape:', TensorShape([Dimension(8), Dimension(256)]))\n",
      "(8, 3)\n",
      "('adding fully connected layer...', 1, ' with ', 256)\n",
      "(8, 256)\n",
      "('adding fully connected layer...', 2, ' with ', 256)\n",
      "('final shape:', TensorShape([Dimension(8), Dimension(256)]))\n",
      "Building classifier layers\n",
      "(8, 1280)\n",
      "('adding fully connected layer...', 1, ' with ', 512)\n",
      "(8, 512)\n",
      "('adding fully connected layer...', 2, ' with ', 256)\n",
      "(8, 256)\n",
      "('adding fully connected layer...', 3, ' with ', 8)\n",
      "('final shape:', TensorShape([Dimension(8), Dimension(8)]))\n",
      "(8, 1280)\n",
      "('adding fully connected layer...', 1, ' with ', 512)\n",
      "(8, 512)\n",
      "('adding fully connected layer...', 2, ' with ', 256)\n",
      "(8, 256)\n",
      "('adding fully connected layer...', 3, ' with ', 8)\n",
      "('final shape:', TensorShape([Dimension(8), Dimension(8)]))\n"
     ]
    }
   ],
   "source": [
    "from model import *\n",
    "model = create_slac_model(config, comp=True)"
   ]
  },
  {
   "cell_type": "code",
   "execution_count": 7,
   "metadata": {},
   "outputs": [
    {
     "name": "stdout",
     "output_type": "stream",
     "text": [
      "Performing cross validation 9:1\n",
      "loading from:  /raid/dkj755/XRD/SLAC_images-TIF\n",
      "(177, 2048, 2048, 1)\n",
      "loading from:  /raid/dkj755/XRD/Bruker_images-TIF\n",
      "(2, 177, 2048, 2048, 1)\n",
      "['Bruker2-TIF', 'comp', 'labels', 'Bruker1-TIF', 'SLAC-TIF']\n",
      "\n",
      " CV step 1 out of 10\n",
      "\n",
      " CV step 2 out of 10\n",
      "\n",
      " CV step 3 out of 10\n",
      "\n",
      " CV step 4 out of 10\n",
      "\n",
      " CV step 5 out of 10\n",
      "\n",
      " CV step 6 out of 10\n",
      "\n",
      " CV step 7 out of 10\n",
      "\n",
      " CV step 8 out of 10\n",
      "\n",
      " CV step 9 out of 10\n",
      "\n",
      " CV step 10 out of 10\n"
     ]
    }
   ],
   "source": [
    "train_model_cv(config, model)"
   ]
  },
  {
   "cell_type": "code",
   "execution_count": null,
   "metadata": {},
   "outputs": [],
   "source": []
  }
 ],
 "metadata": {
  "kernelspec": {
   "display_name": "Python 2",
   "language": "python",
   "name": "python2"
  },
  "language_info": {
   "codemirror_mode": {
    "name": "ipython",
    "version": 2
   },
   "file_extension": ".py",
   "mimetype": "text/x-python",
   "name": "python",
   "nbconvert_exporter": "python",
   "pygments_lexer": "ipython2",
   "version": "2.7.12"
  }
 },
 "nbformat": 4,
 "nbformat_minor": 2
}
